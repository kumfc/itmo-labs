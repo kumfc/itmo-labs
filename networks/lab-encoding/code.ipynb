{
 "cells": [
  {
   "cell_type": "code",
   "execution_count": 1,
   "metadata": {
    "collapsed": true
   },
   "outputs": [],
   "source": [
    "from core.encoder import MessageEncoder\n",
    "from core.draw import Visualizer\n",
    "\n",
    "%matplotlib inline"
   ]
  },
  {
   "cell_type": "code",
   "execution_count": 2,
   "metadata": {},
   "outputs": [
    {
     "name": "stdout",
     "output_type": "stream",
     "text": [
      "Message: Дуфник П.М.\n",
      "HEX: C4 F3 F4 ED E8 EA 20 CF 2E CC 2E\n",
      "BIN: 1100010011110011111101001110110111101000111010100010000011001111001011101100110000101110\n",
      "\n",
      "11 байт\n",
      "88 бит\n"
     ]
    }
   ],
   "source": [
    "message = 'Дуфник П.М.'\n",
    "\n",
    "vis = Visualizer('black', 'black', 3.0)\n",
    "\n",
    "encoder = MessageEncoder(message, 1000, vis)\n",
    "print('Message:', message)\n",
    "encoder.lab_repr()"
   ]
  },
  {
   "cell_type": "markdown",
   "metadata": {},
   "source": [
    "# Манчестерское кодирование"
   ]
  },
  {
   "cell_type": "code",
   "execution_count": 3,
   "metadata": {},
   "outputs": [
    {
     "data": {
      "image/png": "[encoded data removed]",
      "text/plain": [
       "<Figure size 720x151.2 with 1 Axes>"
      ]
     },
     "metadata": {},
     "output_type": "display_data"
    },
    {
     "name": "stdout",
     "output_type": "stream",
     "text": [
      "\n",
      "f_high = 1000 / 1 = 1000.0 MHz\n",
      "f_low = 1000 / 2 = 500.0 MHz\n",
      "f_mid = ((36 / 1)*f0 + (28 / 2)*f0) / 64 = 781.25 MHz\n",
      "S = 7 * 1000.0 - 500.0 = 6500.0 MHz\n",
      "\n"
     ]
    }
   ],
   "source": [
    "code = encoder.phys_encode('manchester')\n",
    "code.draw()\n",
    "code.lab_repr()"
   ]
  },
  {
   "cell_type": "markdown",
   "metadata": {},
   "source": [
    "# NRZ"
   ]
  },
  {
   "cell_type": "code",
   "execution_count": 4,
   "metadata": {},
   "outputs": [
    {
     "data": {
      "image/png": "[encoded data removed]",
      "text/plain": [
       "<Figure size 720x151.2 with 1 Axes>"
      ]
     },
     "metadata": {},
     "output_type": "display_data"
    },
    {
     "name": "stdout",
     "output_type": "stream",
     "text": [
      "\n",
      "f_high = 1000 / 2 = 500.0 MHz\n",
      "f_low = 1000 / 6 = 166.66666666666666 MHz\n",
      "f_mid = ((6 / 1)*f0 + (10 / 2)*f0 + (6 / 3)*f0 + (4 / 4)*f0 + (6 / 6)*f0) / 32 = 234.375 MHz\n",
      "S = 7 * 500.0 - 166.66666666666666 = 3333.3333333333335 MHz\n",
      "\n"
     ]
    }
   ],
   "source": [
    "code = encoder.phys_encode('nrz')\n",
    "code.draw()\n",
    "code.lab_repr()"
   ]
  },
  {
   "cell_type": "markdown",
   "metadata": {},
   "source": [
    "# RZ"
   ]
  },
  {
   "cell_type": "code",
   "execution_count": 5,
   "metadata": {},
   "outputs": [
    {
     "data": {
      "image/png": "[encoded data removed]",
      "text/plain": [
       "<Figure size 720x151.2 with 1 Axes>"
      ]
     },
     "metadata": {},
     "output_type": "display_data"
    },
    {
     "name": "stdout",
     "output_type": "stream",
     "text": [
      "\n",
      "f_high = 1000 / 1 = 1000.0 MHz\n",
      "f_low = 1000 / 4 = 250.0 MHz\n",
      "f_mid = ((6 / 1)*f0 + (10 / 2)*f0 + (6 / 3)*f0 + (4 / 4)*f0 + (6 / 6)*f0) / 32 = 468.75 MHz\n",
      "S = 7 * 1000.0 - 250.0 = 6750.0 MHz\n",
      "\n"
     ]
    }
   ],
   "source": [
    "code = encoder.phys_encode('rz')\n",
    "code.draw()\n",
    "code.lab_repr()"
   ]
  },
  {
   "cell_type": "markdown",
   "metadata": {},
   "source": [
    "# AMI"
   ]
  },
  {
   "cell_type": "code",
   "execution_count": 6,
   "metadata": {},
   "outputs": [
    {
     "data": {
      "image/png": "[encoded data removed]",
      "text/plain": [
       "<Figure size 720x151.2 with 1 Axes>"
      ]
     },
     "metadata": {},
     "output_type": "display_data"
    },
    {
     "name": "stdout",
     "output_type": "stream",
     "text": [
      "\n",
      "f_high = 1000 / 2 = 500.0 MHz\n",
      "f_low = 1000 / 8 = 125.0 MHz\n",
      "f_mid = ((20 / 1)*f0) / 32 = 312.5 MHz\n",
      "S = 7 * 500.0 - 125.0 = 3375.0 MHz\n",
      "\n"
     ]
    }
   ],
   "source": [
    "code = encoder.phys_encode('ami')\n",
    "code.draw()\n",
    "code.lab_repr()"
   ]
  },
  {
   "cell_type": "markdown",
   "metadata": {},
   "source": [
    "# NRZI"
   ]
  },
  {
   "cell_type": "code",
   "execution_count": 7,
   "metadata": {},
   "outputs": [
    {
     "data": {
      "image/png": "[encoded data removed]",
      "text/plain": [
       "<Figure size 720x151.2 with 1 Axes>"
      ]
     },
     "metadata": {},
     "output_type": "display_data"
    },
    {
     "name": "stdout",
     "output_type": "stream",
     "text": [
      "\n",
      "f_high = 1000 / 2 = 500.0 MHz\n",
      "f_low = 1000 / 4 = 250.0 MHz\n",
      "f_mid = ((13 / 1)*f0 + (6 / 2)*f0 + (9 / 3)*f0 + (4 / 4)*f0) / 32 = 312.5 MHz\n",
      "S = 7 * 500.0 - 250.0 = 3250.0 MHz\n",
      "\n"
     ]
    }
   ],
   "source": [
    "code = encoder.phys_encode('nrzi')\n",
    "code.draw()\n",
    "code.lab_repr()"
   ]
  },
  {
   "cell_type": "markdown",
   "metadata": {},
   "source": [
    "# Избыточное кодирование"
   ]
  },
  {
   "cell_type": "code",
   "execution_count": 8,
   "metadata": {},
   "outputs": [
    {
     "name": "stdout",
     "output_type": "stream",
     "text": [
      "HEX: D2 BB 5E AB 9B E4 B9 6A 7B 5D A7 35 AA 1C\n",
      "BIN: 11010010101110110101111010101011100110111110010010111001011010100111101101011101101001110011010110101010011100\n",
      "\n",
      "13.75 байт\n",
      "110 бит\n",
      "Избыточность: 2.75/11.0=0.25 (25%)\n"
     ]
    }
   ],
   "source": [
    "red_encoder = encoder.redundant_logic_encoder()\n",
    "red_encoder.lab_repr(False)\n",
    "print('Избыточность:', f'{red_encoder.byte_len - encoder.byte_len}/{encoder.byte_len}=0.25 (25%)')"
   ]
  },
  {
   "cell_type": "code",
   "execution_count": 9,
   "metadata": {},
   "outputs": [
    {
     "name": "stdout",
     "output_type": "stream",
     "text": [
      "Manchester\n"
     ]
    },
    {
     "data": {
      "image/png": "[encoded data removed]",
      "text/plain": [
       "<Figure size 720x151.2 with 1 Axes>"
      ]
     },
     "metadata": {},
     "output_type": "display_data"
    },
    {
     "name": "stdout",
     "output_type": "stream",
     "text": [
      "\n",
      "f_high = 1000 / 1 = 1000.0 MHz\n",
      "f_low = 1000 / 2 = 500.0 MHz\n",
      "f_mid = ((20 / 1)*f0 + (44 / 2)*f0) / 64 = 656.25 MHz\n",
      "S = 7 * 1000.0 - 500.0 = 6500.0 MHz\n",
      "\n",
      "\n",
      "\n",
      "\n",
      "AMI\n"
     ]
    },
    {
     "data": {
      "image/png": "[encoded data removed]",
      "text/plain": [
       "<Figure size 720x151.2 with 1 Axes>"
      ]
     },
     "metadata": {},
     "output_type": "display_data"
    },
    {
     "name": "stdout",
     "output_type": "stream",
     "text": [
      "\n",
      "f_high = 1000 / 2 = 500.0 MHz\n",
      "f_low = 1000 / 8 = 125.0 MHz\n",
      "f_mid = ((20 / 1)*f0) / 32 = 312.5 MHz\n",
      "S = 7 * 500.0 - 125.0 = 3375.0 MHz\n",
      "\n"
     ]
    }
   ],
   "source": [
    "print('Manchester')\n",
    "code = red_encoder.phys_encode('manchester')\n",
    "code.draw()\n",
    "code.lab_repr()\n",
    "\n",
    "print('\\n\\n')\n",
    "\n",
    "\n",
    "print('AMI')\n",
    "code = red_encoder.phys_encode('ami')\n",
    "code.draw()\n",
    "code.lab_repr()"
   ]
  },
  {
   "cell_type": "markdown",
   "metadata": {},
   "source": [
    "# Скремблирование"
   ]
  },
  {
   "cell_type": "code",
   "execution_count": 10,
   "metadata": {},
   "outputs": [
    {
     "name": "stdout",
     "output_type": "stream",
     "text": [
      "[Scramble]  Input 6\n",
      "[Scramble]  (3, 5) 5\n",
      "[Scramble]  (5, 7) 5\n",
      "[Scramble]  (3, 7) 5\n",
      "\n",
      "Полином: (3, 5)\n",
      "HEX: D9 18 33 17 A1 DF 3E E4 99 21 06\n",
      "BIN: 1101100100011000001100110001011110100001110111110011111011100100100110010010000100000110\n",
      "\n",
      "11 байт\n",
      "88 бит\n"
     ]
    }
   ],
   "source": [
    "polynom, scramble_encoder = encoder.scramble()\n",
    "print()\n",
    "print('Полином:', polynom)\n",
    "scramble_encoder.lab_repr()"
   ]
  },
  {
   "cell_type": "code",
   "execution_count": 11,
   "metadata": {},
   "outputs": [
    {
     "name": "stdout",
     "output_type": "stream",
     "text": [
      "Manchester\n"
     ]
    },
    {
     "data": {
      "image/png": "[encoded data removed]",
      "text/plain": [
       "<Figure size 720x151.2 with 1 Axes>"
      ]
     },
     "metadata": {},
     "output_type": "display_data"
    },
    {
     "name": "stdout",
     "output_type": "stream",
     "text": [
      "\n",
      "f_high = 1000 / 1 = 1000.0 MHz\n",
      "f_low = 1000 / 2 = 500.0 MHz\n",
      "f_mid = ((36 / 1)*f0 + (28 / 2)*f0) / 64 = 781.25 MHz\n",
      "S = 7 * 1000.0 - 500.0 = 6500.0 MHz\n",
      "\n",
      "\n",
      "\n",
      "\n",
      "AMI\n"
     ]
    },
    {
     "data": {
      "image/png": "[encoded data removed]",
      "text/plain": [
       "<Figure size 720x151.2 with 1 Axes>"
      ]
     },
     "metadata": {},
     "output_type": "display_data"
    },
    {
     "name": "stdout",
     "output_type": "stream",
     "text": [
      "\n",
      "f_high = 1000 / 2 = 500.0 MHz\n",
      "f_low = 1000 / 8 = 125.0 MHz\n",
      "f_mid = ((15 / 1)*f0) / 32 = 234.375 MHz\n",
      "S = 7 * 500.0 - 125.0 = 3375.0 MHz\n",
      "\n"
     ]
    }
   ],
   "source": [
    "print('Manchester')\n",
    "code = scramble_encoder.phys_encode('manchester')\n",
    "code.draw()\n",
    "code.lab_repr()\n",
    "\n",
    "print('\\n\\n')\n",
    "\n",
    "\n",
    "print('AMI')\n",
    "code = scramble_encoder.phys_encode('ami')\n",
    "code.draw()\n",
    "code.lab_repr()"
   ]
  },
  {
   "cell_type": "markdown",
   "metadata": {},
   "source": [
    "# Тест"
   ]
  },
  {
   "cell_type": "code",
   "execution_count": 12,
   "metadata": {},
   "outputs": [
    {
     "data": {
      "image/png": "[encoded data removed]",
      "text/plain": [
       "<Figure size 720x151.2 with 1 Axes>"
      ]
     },
     "metadata": {},
     "output_type": "display_data"
    },
    {
     "name": "stdout",
     "output_type": "stream",
     "text": [
      "\n",
      "f_high = 1 / 2 = 0.5 MHz\n",
      "f_low = 1 / 6 = 0.16666666666666666 MHz\n",
      "f_mid = ((7 / 1)*f0 + (4 / 2)*f0 + (8 / 4)*f0) / 19 = 0.2894736842105263 MHz\n",
      "S = 7 * 0.5 - 0.16666666666666666 = 3.3333333333333335 MHz\n",
      "\n"
     ]
    }
   ],
   "source": [
    "test = '0101010000111101100'\n",
    "encoder = MessageEncoder('0', 1, vis, len(test))\n",
    "encoder.update_message(test)\n",
    "\n",
    "code = encoder.phys_encode('nrz')\n",
    "code.draw()\n",
    "code.lab_repr()"
   ]
  },
  {
   "cell_type": "code",
   "execution_count": 13,
   "metadata": {
    "collapsed": false,
    "pycharm": {
     "name": "#%%\n"
    }
   },
   "outputs": [
    {
     "data": {
      "image/png": "[encoded data removed]",
      "text/plain": [
       "<Figure size 720x151.2 with 1 Axes>"
      ]
     },
     "metadata": {},
     "output_type": "display_data"
    },
    {
     "data": {
      "image/png": "[encoded data removed]",
      "text/plain": [
       "<Figure size 720x151.2 with 1 Axes>"
      ]
     },
     "metadata": {},
     "output_type": "display_data"
    },
    {
     "data": {
      "image/png": "[encoded data removed]",
      "text/plain": [
       "<Figure size 720x252 with 1 Axes>"
      ]
     },
     "metadata": {},
     "output_type": "display_data"
    }
   ],
   "source": [
    "encoder.update_message('1001101100010001')\n",
    "\n",
    "code = encoder.phys_encode('manchester-diff')\n",
    "code.draw()\n",
    "\n",
    "code = encoder.phys_encode('mlt-3')\n",
    "code.draw()\n",
    "\n",
    "code = encoder.phys_encode('pam-5')\n",
    "code.draw()"
   ]
  }
 ],
 "metadata": {
  "kernelspec": {
   "display_name": "Python 3.8.2 32-bit",
   "language": "python",
   "name": "python3"
  },
  "language_info": {
   "codemirror_mode": {
    "name": "ipython",
    "version": 3
   },
   "file_extension": ".py",
   "mimetype": "text/x-python",
   "name": "python",
   "nbconvert_exporter": "python",
   "pygments_lexer": "ipython3",
   "version": "3.8.2"
  },
  "vscode": {
   "interpreter": {
    "hash": "f600a84086ad13ec397462551ca0f2f09b751c6ce398200083dc4aab37d3984e"
   }
  }
 },
 "nbformat": 4,
 "nbformat_minor": 0
}
